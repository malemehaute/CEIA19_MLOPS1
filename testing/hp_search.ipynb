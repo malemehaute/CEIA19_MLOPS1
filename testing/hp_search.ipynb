{
 "cells": [
  {
   "cell_type": "markdown",
   "id": "6f457912",
   "metadata": {},
   "source": [
    "# Preliminares\n",
    "\n",
    "Copiado de notebook de ETL"
   ]
  },
  {
   "cell_type": "code",
   "execution_count": 4,
   "id": "1c1c8513",
   "metadata": {},
   "outputs": [],
   "source": [
    "from sklearn.model_selection import train_test_split\n",
    "import pandas as pd"
   ]
  },
  {
   "cell_type": "code",
   "execution_count": 5,
   "id": "39dbabe8",
   "metadata": {},
   "outputs": [],
   "source": [
    "df = pd.read_csv('../podcast_dataset.csv')\n",
    "\n",
    "# drop duplicates\n",
    "df.drop_duplicates(inplace=True)\n",
    "\n",
    "# target relativo\n",
    "df['fraction_listened'] = df['Listening_Time_minutes'] / df['Episode_Length_minutes']\n",
    "\n",
    "# encoding de episode number\n",
    "df['Episode_Number'] = df['Episode_Title'].apply(lambda x: x.split(\" \")[-1]).astype(int)\n",
    "\n",
    "# ausencia de guest\n",
    "df['no_guest'] = df['Guest_Popularity_percentage'].isna()\n",
    "\n",
    "# imputacion de NaNs\n",
    "df.fillna({'Guest_Popularity_percentage':-1}, inplace=True)\n",
    "\n",
    "# dropeo de NaNs de las otras columnas y reseteo de index\n",
    "df.dropna(inplace=True)\n",
    "df.reset_index(inplace=True, drop=True)\n",
    "\n",
    "# encoding de sentiment\n",
    "df['sentiment_encoded'] = df['Episode_Sentiment'].map({'Neutral':0, 'Negative':-1, 'Positive':1}).astype(int)\n",
    "\n",
    "# drop de variables ahora redundantes\n",
    "df.drop(columns=['Episode_Title', 'Episode_Sentiment', 'Listening_Time_minutes'], inplace=True)\n",
    "\n",
    "# params\n",
    "target_col = 'fraction_listened'\n",
    "test_size = 0.3\n",
    "\n",
    "# Establecemos convención de target relativo\n",
    "\n",
    "X = df.drop(columns=[target_col])\n",
    "y = df[[target_col]]\n",
    "\n",
    "X_train, X_test, y_train, y_test = train_test_split(X, y, test_size=float(test_size))\n"
   ]
  },
  {
   "cell_type": "code",
   "execution_count": 6,
   "id": "ff45fb05",
   "metadata": {},
   "outputs": [
    {
     "data": {
      "text/html": [
       "<div>\n",
       "<style scoped>\n",
       "    .dataframe tbody tr th:only-of-type {\n",
       "        vertical-align: middle;\n",
       "    }\n",
       "\n",
       "    .dataframe tbody tr th {\n",
       "        vertical-align: top;\n",
       "    }\n",
       "\n",
       "    .dataframe thead th {\n",
       "        text-align: right;\n",
       "    }\n",
       "</style>\n",
       "<table border=\"1\" class=\"dataframe\">\n",
       "  <thead>\n",
       "    <tr style=\"text-align: right;\">\n",
       "      <th></th>\n",
       "      <th>Podcast_Name</th>\n",
       "      <th>Episode_Length_minutes</th>\n",
       "      <th>Genre</th>\n",
       "      <th>Host_Popularity_percentage</th>\n",
       "      <th>Publication_Day</th>\n",
       "      <th>Publication_Time</th>\n",
       "      <th>Guest_Popularity_percentage</th>\n",
       "      <th>Number_of_Ads</th>\n",
       "      <th>Episode_Number</th>\n",
       "      <th>no_guest</th>\n",
       "      <th>sentiment_encoded</th>\n",
       "    </tr>\n",
       "  </thead>\n",
       "  <tbody>\n",
       "    <tr>\n",
       "      <th>30012</th>\n",
       "      <td>Market Masters</td>\n",
       "      <td>7.48</td>\n",
       "      <td>Business</td>\n",
       "      <td>26.42</td>\n",
       "      <td>Friday</td>\n",
       "      <td>Morning</td>\n",
       "      <td>87.46</td>\n",
       "      <td>0</td>\n",
       "      <td>23</td>\n",
       "      <td>False</td>\n",
       "      <td>0</td>\n",
       "    </tr>\n",
       "    <tr>\n",
       "      <th>15723</th>\n",
       "      <td>Sports Weekly</td>\n",
       "      <td>13.43</td>\n",
       "      <td>Sports</td>\n",
       "      <td>92.66</td>\n",
       "      <td>Tuesday</td>\n",
       "      <td>Evening</td>\n",
       "      <td>94.68</td>\n",
       "      <td>3</td>\n",
       "      <td>18</td>\n",
       "      <td>False</td>\n",
       "      <td>0</td>\n",
       "    </tr>\n",
       "    <tr>\n",
       "      <th>22062</th>\n",
       "      <td>Melody Mix</td>\n",
       "      <td>47.18</td>\n",
       "      <td>Music</td>\n",
       "      <td>99.54</td>\n",
       "      <td>Tuesday</td>\n",
       "      <td>Night</td>\n",
       "      <td>48.52</td>\n",
       "      <td>0</td>\n",
       "      <td>40</td>\n",
       "      <td>False</td>\n",
       "      <td>1</td>\n",
       "    </tr>\n",
       "    <tr>\n",
       "      <th>17759</th>\n",
       "      <td>True Crime Stories</td>\n",
       "      <td>51.98</td>\n",
       "      <td>True Crime</td>\n",
       "      <td>84.87</td>\n",
       "      <td>Monday</td>\n",
       "      <td>Night</td>\n",
       "      <td>48.25</td>\n",
       "      <td>2</td>\n",
       "      <td>16</td>\n",
       "      <td>False</td>\n",
       "      <td>-1</td>\n",
       "    </tr>\n",
       "    <tr>\n",
       "      <th>18317</th>\n",
       "      <td>Fitness First</td>\n",
       "      <td>14.27</td>\n",
       "      <td>Health</td>\n",
       "      <td>93.42</td>\n",
       "      <td>Thursday</td>\n",
       "      <td>Evening</td>\n",
       "      <td>-1.00</td>\n",
       "      <td>3</td>\n",
       "      <td>56</td>\n",
       "      <td>True</td>\n",
       "      <td>1</td>\n",
       "    </tr>\n",
       "  </tbody>\n",
       "</table>\n",
       "</div>"
      ],
      "text/plain": [
       "             Podcast_Name  Episode_Length_minutes       Genre  \\\n",
       "30012      Market Masters                    7.48    Business   \n",
       "15723       Sports Weekly                   13.43      Sports   \n",
       "22062          Melody Mix                   47.18       Music   \n",
       "17759  True Crime Stories                   51.98  True Crime   \n",
       "18317       Fitness First                   14.27      Health   \n",
       "\n",
       "       Host_Popularity_percentage Publication_Day Publication_Time  \\\n",
       "30012                       26.42          Friday          Morning   \n",
       "15723                       92.66         Tuesday          Evening   \n",
       "22062                       99.54         Tuesday            Night   \n",
       "17759                       84.87          Monday            Night   \n",
       "18317                       93.42        Thursday          Evening   \n",
       "\n",
       "       Guest_Popularity_percentage  Number_of_Ads  Episode_Number  no_guest  \\\n",
       "30012                        87.46              0              23     False   \n",
       "15723                        94.68              3              18     False   \n",
       "22062                        48.52              0              40     False   \n",
       "17759                        48.25              2              16     False   \n",
       "18317                        -1.00              3              56      True   \n",
       "\n",
       "       sentiment_encoded  \n",
       "30012                  0  \n",
       "15723                  0  \n",
       "22062                  1  \n",
       "17759                 -1  \n",
       "18317                  1  "
      ]
     },
     "execution_count": 6,
     "metadata": {},
     "output_type": "execute_result"
    }
   ],
   "source": [
    "X_train.head()"
   ]
  },
  {
   "cell_type": "code",
   "execution_count": 7,
   "id": "dca5b849",
   "metadata": {},
   "outputs": [
    {
     "name": "stdout",
     "output_type": "stream",
     "text": [
      "<class 'pandas.core.frame.DataFrame'>\n",
      "Index: 12113 entries, 26734 to 19454\n",
      "Data columns (total 11 columns):\n",
      " #   Column                       Non-Null Count  Dtype  \n",
      "---  ------                       --------------  -----  \n",
      " 0   Podcast_Name                 12113 non-null  object \n",
      " 1   Episode_Length_minutes       12113 non-null  float64\n",
      " 2   Genre                        12113 non-null  object \n",
      " 3   Host_Popularity_percentage   12113 non-null  float64\n",
      " 4   Publication_Day              12113 non-null  object \n",
      " 5   Publication_Time             12113 non-null  object \n",
      " 6   Guest_Popularity_percentage  12113 non-null  float64\n",
      " 7   Number_of_Ads                12113 non-null  int64  \n",
      " 8   Episode_Number               12113 non-null  int64  \n",
      " 9   no_guest                     12113 non-null  bool   \n",
      " 10  sentiment_encoded            12113 non-null  int64  \n",
      "dtypes: bool(1), float64(3), int64(3), object(4)\n",
      "memory usage: 1.0+ MB\n"
     ]
    }
   ],
   "source": [
    "X_test.info()"
   ]
  },
  {
   "cell_type": "markdown",
   "id": "367781f0",
   "metadata": {},
   "source": [
    "# HP search\n",
    "\n",
    "See references\n",
    "\n",
    "* [MLFlow + Optuna](https://mlflow.org/docs/latest/ml/traditional-ml/tutorials/hyperparameter-tuning/notebooks/hyperparameter-tuning-with-child-runs)"
   ]
  },
  {
   "cell_type": "markdown",
   "id": "7801da85",
   "metadata": {},
   "source": [
    "## Evaluación de un set de HPs"
   ]
  },
  {
   "cell_type": "code",
   "execution_count": 24,
   "id": "88b66b45",
   "metadata": {},
   "outputs": [],
   "source": [
    "import optuna\n",
    "from sklearn.ensemble import RandomForestRegressor\n",
    "from sklearn.preprocessing import TargetEncoder\n",
    "from sklearn.pipeline import make_pipeline\n",
    "from sklearn.compose import make_column_transformer\n",
    "from sklearn.model_selection import KFold\n",
    "import numpy as np\n",
    "from sklearn.metrics import root_mean_squared_error, mean_absolute_error"
   ]
  },
  {
   "cell_type": "code",
   "execution_count": 12,
   "id": "7b4cf4af",
   "metadata": {},
   "outputs": [
    {
     "data": {
      "text/plain": [
       "(['Podcast_Name', 'Genre', 'Publication_Day', 'Publication_Time'],\n",
       " ['Episode_Length_minutes',\n",
       "  'Host_Popularity_percentage',\n",
       "  'Guest_Popularity_percentage',\n",
       "  'Number_of_Ads',\n",
       "  'Episode_Number',\n",
       "  'no_guest',\n",
       "  'sentiment_encoded'])"
      ]
     },
     "execution_count": 12,
     "metadata": {},
     "output_type": "execute_result"
    }
   ],
   "source": [
    "cat_cols = X_train.columns[X_train.dtypes=='object'].tolist()\n",
    "numeric_cols = X_train.columns[X_train.dtypes!='object'].tolist()\n",
    "\n",
    "cat_cols, numeric_cols"
   ]
  },
  {
   "cell_type": "code",
   "execution_count": 14,
   "id": "753a090a",
   "metadata": {},
   "outputs": [],
   "source": [
    "SPLITTER = KFold(n_splits=5, random_state=42, shuffle=True)"
   ]
  },
  {
   "cell_type": "code",
   "execution_count": 32,
   "id": "36dc075d",
   "metadata": {},
   "outputs": [],
   "source": [
    "METRICS = {\n",
    "    'RMSE': root_mean_squared_error,\n",
    "    'MAE': mean_absolute_error\n",
    "}\n",
    "\n",
    "target_metric = 'RMSE'"
   ]
  },
  {
   "cell_type": "code",
   "execution_count": 30,
   "id": "478bf964",
   "metadata": {},
   "outputs": [],
   "source": [
    "# utils\n",
    "\n",
    "def make_rf_pip(rf_params, cat_encoder):\n",
    "    \"\"\"\n",
    "    Make a simple pipeline where\n",
    "    * Numerical columns are passed through\n",
    "    * Categorical columns are encoded using a passed `cat_encoder` encoder\n",
    "    * A RandomForestRegressor is used as final estimator using `rf_params` parameters\n",
    "\n",
    "    Both the preprocessing and RF models are passed `n_jobs=-1` for max usage of cores.\n",
    "    \"\"\"\n",
    "    return make_pipeline(\n",
    "        make_column_transformer(\n",
    "            ('passthrough',numeric_cols),\n",
    "            (cat_encoder, cat_cols),\n",
    "            sparse_threshold=0,\n",
    "            n_jobs=-1\n",
    "        ),\n",
    "        RandomForestRegressor(n_jobs=-1, **rf_params)\n",
    "    )\n",
    "\n",
    "def cv_model(rf_params, cat_encoder, X, y):\n",
    "    n_splits = SPLITTER.get_n_splits()\n",
    "\n",
    "    results = {k:np.empty(n_splits) for k in METRICS}\n",
    "    for i, (train_idx, test_idx) in enumerate(SPLITTER.split(X)):\n",
    "\n",
    "        # get splits\n",
    "        X_train = X.iloc[train_idx]\n",
    "        X_test = X.iloc[test_idx]\n",
    "\n",
    "        y_train_rel = y.iloc[train_idx]\n",
    "        y_test_abs = y.iloc[test_idx] * X_test['Episode_Length_minutes']\n",
    "\n",
    "        # train model\n",
    "        pipe = make_rf_pip(rf_params, cat_encoder)\n",
    "        pipe.fit(X_train, y_train_rel)\n",
    "\n",
    "        # get absolute preds\n",
    "        y_pred_rel = pipe.predict(X_test)\n",
    "        y_pred_abs = y_pred_rel * X_test['Episode_Length_minutes']\n",
    "\n",
    "        # calculate metrics, save them\n",
    "        for k, metric in METRICS.items():\n",
    "            results[k][i] = metric(\n",
    "                y_test_abs,\n",
    "                y_pred_abs\n",
    "            )\n",
    "    # return results\n",
    "    return results"
   ]
  },
  {
   "cell_type": "markdown",
   "id": "01dde808",
   "metadata": {},
   "source": [
    "Mostramos un ejemplo de cross validation para un ejemplo de parámetros"
   ]
  },
  {
   "cell_type": "code",
   "execution_count": 31,
   "id": "5aadb74c",
   "metadata": {},
   "outputs": [
    {
     "data": {
      "text/plain": [
       "{'RMSE': array([11.25387199, 11.31476545, 11.19360097, 10.95370621, 11.08710962]),\n",
       " 'MAE': array([8.87480125, 8.86869128, 8.83628072, 8.61340798, 8.73323277])}"
      ]
     },
     "execution_count": 31,
     "metadata": {},
     "output_type": "execute_result"
    }
   ],
   "source": [
    "cv_model(\n",
    "    rf_params={'n_estimators':50, 'max_depth':4, 'min_samples_split':3},\n",
    "    cat_encoder=TargetEncoder(target_type='continuous', random_state=42),\n",
    "    X=X_train,\n",
    "    y=y_train[target_col]\n",
    ")"
   ]
  },
  {
   "cell_type": "markdown",
   "id": "ad6134f2",
   "metadata": {},
   "source": [
    "## Optimización de HPs"
   ]
  },
  {
   "cell_type": "code",
   "execution_count": 10,
   "id": "f4860bb3",
   "metadata": {},
   "outputs": [],
   "source": [
    "# override Optuna's default logging to ERROR only\n",
    "optuna.logging.set_verbosity(optuna.logging.ERROR)\n",
    "\n",
    "# define a logging callback that will report on only new challenger parameter configurations if a\n",
    "# trial has usurped the state of 'best conditions'\n",
    "def champion_callback(study, frozen_trial):\n",
    "  \"\"\"\n",
    "  Logging callback that will report when a new trial iteration improves upon existing\n",
    "  best trial values.\n",
    "  \"\"\"\n",
    "\n",
    "  winner = study.user_attrs.get(\"winner\", None)\n",
    "\n",
    "  if study.best_value and winner != study.best_value:\n",
    "      study.set_user_attr(\"winner\", study.best_value)\n",
    "      if winner:\n",
    "          improvement_percent = (abs(winner - study.best_value) / study.best_value) * 100\n",
    "          print(\n",
    "              f\"Trial {frozen_trial.number} achieved value: {frozen_trial.value} with \"\n",
    "              f\"{improvement_percent: .4f}% improvement\"\n",
    "          )\n",
    "      else:\n",
    "          print(f\"Initial trial {frozen_trial.number} achieved value: {frozen_trial.value}\")"
   ]
  },
  {
   "cell_type": "code",
   "execution_count": null,
   "id": "a29f169c",
   "metadata": {},
   "outputs": [],
   "source": [
    "def objective(trial):\n",
    "\n",
    "    # define hps\n",
    "    rf_params = dict(\n",
    "        n_estimators = trial.suggest_int('n_estimators', 50, 100),\n",
    "        max_depth = trial.suggest_int('max_depth', 3, 6),\n",
    "        min_samples_split = trial.suggest_int('min_samples_split', 2, 10)\n",
    "    )\n",
    "\n",
    "    # CV the HPs\n",
    "    results = cv_model(\n",
    "        rf_params=rf_params,\n",
    "        cat_encoder=TargetEncoder(target_type='continuous', random_state=42),\n",
    "        X=X_train,\n",
    "        y=y_train[target_col]\n",
    "    )\n",
    "\n",
    "    # log metrics x params\n",
    "    # mlflow.log_params(params)\n",
    "    # for name, values in results.items():\n",
    "    #    mlflow.log_metric(name.lower(), values.mean().item())\n",
    "\n",
    "    # return mean target metric\n",
    "    return results[target_metric].mean()\n"
   ]
  },
  {
   "cell_type": "markdown",
   "id": "4922b933",
   "metadata": {},
   "source": [
    "Mostramos corrida"
   ]
  },
  {
   "cell_type": "code",
   "execution_count": 35,
   "id": "ed36e19e",
   "metadata": {},
   "outputs": [
    {
     "name": "stdout",
     "output_type": "stream",
     "text": [
      "Initial trial 0 achieved value: 11.103759426679199\n"
     ]
    }
   ],
   "source": [
    "study = optuna.create_study(direction=\"minimize\")\n",
    "\n",
    "study.optimize(objective, n_trials=5, callbacks=[champion_callback])"
   ]
  },
  {
   "cell_type": "code",
   "execution_count": 38,
   "id": "09ee7959",
   "metadata": {},
   "outputs": [
    {
     "data": {
      "text/plain": [
       "{'n_estimators': 52, 'max_depth': 6, 'min_samples_split': 5}"
      ]
     },
     "execution_count": 38,
     "metadata": {},
     "output_type": "execute_result"
    }
   ],
   "source": [
    "challenger_params = study.best_params\n",
    "\n",
    "challenger_params"
   ]
  },
  {
   "cell_type": "markdown",
   "id": "018dd0f2",
   "metadata": {},
   "source": [
    "# Entrenamiento usando mejores HP"
   ]
  },
  {
   "cell_type": "code",
   "execution_count": 42,
   "id": "291c0e89",
   "metadata": {},
   "outputs": [
    {
     "name": "stdout",
     "output_type": "stream",
     "text": [
      "RMSE 11.046\n",
      "MAE 8.713\n"
     ]
    }
   ],
   "source": [
    "pipe = make_rf_pip(\n",
    "    rf_params=challenger_params,\n",
    "    cat_encoder=TargetEncoder(target_type='continuous', random_state=42)\n",
    ")\n",
    "\n",
    "pipe.fit(X_train, y_train[target_col])\n",
    "y_pred_abs = pipe.predict(X_test) * X_test['Episode_Length_minutes']\n",
    "y_test_abs = y_test[target_col] * X_test['Episode_Length_minutes']\n",
    "\n",
    "for k,f in METRICS.items():\n",
    "    print(k, round(f(y_test_abs, y_pred_abs), 3))"
   ]
  },
  {
   "cell_type": "markdown",
   "id": "8e68ca10",
   "metadata": {},
   "source": [
    "`pipe` es el *challenger*, si las predicciones sobre **test** son mejores que las del modelo anterior (el *champion*) entonces lo destrona y se toma el primero como nuevo modelo vigente."
   ]
  },
  {
   "cell_type": "code",
   "execution_count": null,
   "id": "3915d910",
   "metadata": {},
   "outputs": [],
   "source": []
  }
 ],
 "metadata": {
  "kernelspec": {
   "display_name": ".venv",
   "language": "python",
   "name": "python3"
  },
  "language_info": {
   "codemirror_mode": {
    "name": "ipython",
    "version": 3
   },
   "file_extension": ".py",
   "mimetype": "text/x-python",
   "name": "python",
   "nbconvert_exporter": "python",
   "pygments_lexer": "ipython3",
   "version": "3.12.3"
  }
 },
 "nbformat": 4,
 "nbformat_minor": 5
}
