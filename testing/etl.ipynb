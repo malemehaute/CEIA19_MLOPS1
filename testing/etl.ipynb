{
 "cells": [
  {
   "cell_type": "code",
   "execution_count": 1,
   "id": "e11d0c7a",
   "metadata": {},
   "outputs": [],
   "source": [
    "import pandas as pd"
   ]
  },
  {
   "cell_type": "markdown",
   "id": "fa0736bd",
   "metadata": {},
   "source": [
    "## Loading"
   ]
  },
  {
   "cell_type": "code",
   "execution_count": 9,
   "id": "3dd143b5",
   "metadata": {},
   "outputs": [
    {
     "data": {
      "text/html": [
       "<div>\n",
       "<style scoped>\n",
       "    .dataframe tbody tr th:only-of-type {\n",
       "        vertical-align: middle;\n",
       "    }\n",
       "\n",
       "    .dataframe tbody tr th {\n",
       "        vertical-align: top;\n",
       "    }\n",
       "\n",
       "    .dataframe thead th {\n",
       "        text-align: right;\n",
       "    }\n",
       "</style>\n",
       "<table border=\"1\" class=\"dataframe\">\n",
       "  <thead>\n",
       "    <tr style=\"text-align: right;\">\n",
       "      <th></th>\n",
       "      <th>Podcast_Name</th>\n",
       "      <th>Episode_Title</th>\n",
       "      <th>Episode_Length_minutes</th>\n",
       "      <th>Genre</th>\n",
       "      <th>Host_Popularity_percentage</th>\n",
       "      <th>Publication_Day</th>\n",
       "      <th>Publication_Time</th>\n",
       "      <th>Guest_Popularity_percentage</th>\n",
       "      <th>Number_of_Ads</th>\n",
       "      <th>Episode_Sentiment</th>\n",
       "      <th>Listening_Time_minutes</th>\n",
       "    </tr>\n",
       "  </thead>\n",
       "  <tbody>\n",
       "    <tr>\n",
       "      <th>0</th>\n",
       "      <td>Healthy Living</td>\n",
       "      <td>Episode 77</td>\n",
       "      <td>99.25</td>\n",
       "      <td>Health</td>\n",
       "      <td>21.37</td>\n",
       "      <td>Thursday</td>\n",
       "      <td>Night</td>\n",
       "      <td>70.22</td>\n",
       "      <td>3</td>\n",
       "      <td>Positive</td>\n",
       "      <td>55.158695</td>\n",
       "    </tr>\n",
       "    <tr>\n",
       "      <th>1</th>\n",
       "      <td>Mystery Matters</td>\n",
       "      <td>Episode 6</td>\n",
       "      <td>19.43</td>\n",
       "      <td>True Crime</td>\n",
       "      <td>47.19</td>\n",
       "      <td>Friday</td>\n",
       "      <td>Evening</td>\n",
       "      <td>75.15</td>\n",
       "      <td>1</td>\n",
       "      <td>Neutral</td>\n",
       "      <td>7.686559</td>\n",
       "    </tr>\n",
       "    <tr>\n",
       "      <th>2</th>\n",
       "      <td>Current Affairs</td>\n",
       "      <td>Episode 1</td>\n",
       "      <td>117.03</td>\n",
       "      <td>News</td>\n",
       "      <td>96.33</td>\n",
       "      <td>Sunday</td>\n",
       "      <td>Night</td>\n",
       "      <td>57.95</td>\n",
       "      <td>3</td>\n",
       "      <td>Neutral</td>\n",
       "      <td>110.064645</td>\n",
       "    </tr>\n",
       "    <tr>\n",
       "      <th>3</th>\n",
       "      <td>Mystery Matters</td>\n",
       "      <td>Episode 38</td>\n",
       "      <td>16.97</td>\n",
       "      <td>True Crime</td>\n",
       "      <td>25.73</td>\n",
       "      <td>Monday</td>\n",
       "      <td>Night</td>\n",
       "      <td>24.19</td>\n",
       "      <td>0</td>\n",
       "      <td>Positive</td>\n",
       "      <td>12.000380</td>\n",
       "    </tr>\n",
       "    <tr>\n",
       "      <th>4</th>\n",
       "      <td>Humor Hub</td>\n",
       "      <td>Episode 73</td>\n",
       "      <td>83.48</td>\n",
       "      <td>Comedy</td>\n",
       "      <td>76.69</td>\n",
       "      <td>Tuesday</td>\n",
       "      <td>Afternoon</td>\n",
       "      <td>42.31</td>\n",
       "      <td>3</td>\n",
       "      <td>Positive</td>\n",
       "      <td>NaN</td>\n",
       "    </tr>\n",
       "  </tbody>\n",
       "</table>\n",
       "</div>"
      ],
      "text/plain": [
       "      Podcast_Name Episode_Title  Episode_Length_minutes       Genre  \\\n",
       "0   Healthy Living    Episode 77                   99.25      Health   \n",
       "1  Mystery Matters     Episode 6                   19.43  True Crime   \n",
       "2  Current Affairs     Episode 1                  117.03        News   \n",
       "3  Mystery Matters    Episode 38                   16.97  True Crime   \n",
       "4        Humor Hub    Episode 73                   83.48      Comedy   \n",
       "\n",
       "   Host_Popularity_percentage Publication_Day Publication_Time  \\\n",
       "0                       21.37        Thursday            Night   \n",
       "1                       47.19          Friday          Evening   \n",
       "2                       96.33          Sunday            Night   \n",
       "3                       25.73          Monday            Night   \n",
       "4                       76.69         Tuesday        Afternoon   \n",
       "\n",
       "   Guest_Popularity_percentage  Number_of_Ads Episode_Sentiment  \\\n",
       "0                        70.22              3          Positive   \n",
       "1                        75.15              1           Neutral   \n",
       "2                        57.95              3           Neutral   \n",
       "3                        24.19              0          Positive   \n",
       "4                        42.31              3          Positive   \n",
       "\n",
       "   Listening_Time_minutes  \n",
       "0               55.158695  \n",
       "1                7.686559  \n",
       "2              110.064645  \n",
       "3               12.000380  \n",
       "4                     NaN  "
      ]
     },
     "execution_count": 9,
     "metadata": {},
     "output_type": "execute_result"
    }
   ],
   "source": [
    "# levantamos los datos\n",
    "df = pd.read_csv('../podcast_dataset.csv')\n",
    "\n",
    "# peek\n",
    "df.head()"
   ]
  },
  {
   "cell_type": "markdown",
   "id": "8d7b3ead",
   "metadata": {},
   "source": [
    "## Preprocesamiento"
   ]
  },
  {
   "cell_type": "code",
   "execution_count": 10,
   "id": "e415c477",
   "metadata": {},
   "outputs": [],
   "source": [
    "# drop duplicates\n",
    "df.drop_duplicates(inplace=True)\n",
    "\n",
    "# target relativo\n",
    "df['fraction_listened'] = df['Listening_Time_minutes'] / df['Episode_Length_minutes']\n",
    "\n",
    "# encoding de episode number\n",
    "df['Episode_Number'] = df['Episode_Title'].apply(lambda x: x.split(\" \")[-1]).astype(int)\n",
    "\n",
    "# ausencia de guest\n",
    "df['no_guest'] = df['Guest_Popularity_percentage'].isna()\n",
    "\n",
    "# imputacion de NaNs\n",
    "df.fillna({'Guest_Popularity_percentage':-1}, inplace=True)\n",
    "\n",
    "# dropeo de NaNs de las otras columnas y reseteo de index\n",
    "df.dropna(inplace=True)\n",
    "df.reset_index(inplace=True, drop=True)\n",
    "\n",
    "# encoding de sentiment\n",
    "df['sentiment_encoded'] = df['Episode_Sentiment'].map({'Neutral':0, 'Negative':-1, 'Positive':1}).astype(int)\n",
    "\n",
    "# drop de variables ahora redundantes\n",
    "df.drop(columns=['Episode_Title', 'Episode_Sentiment', 'Listening_Time_minutes'], inplace=True)"
   ]
  },
  {
   "cell_type": "markdown",
   "id": "401f7eb8",
   "metadata": {},
   "source": [
    "## Splitting"
   ]
  },
  {
   "cell_type": "code",
   "execution_count": 14,
   "id": "bf832438",
   "metadata": {},
   "outputs": [],
   "source": [
    "# params\n",
    "target_col = 'fraction_listened'\n",
    "test_size = 0.3"
   ]
  },
  {
   "cell_type": "code",
   "execution_count": 18,
   "id": "98f2f3d6",
   "metadata": {},
   "outputs": [
    {
     "data": {
      "text/plain": [
       "((40374, 11), (40374, 1))"
      ]
     },
     "execution_count": 18,
     "metadata": {},
     "output_type": "execute_result"
    }
   ],
   "source": [
    "# Establecemos convención de target relativo\n",
    "\n",
    "X = df.drop(columns=[target_col])\n",
    "y = df[[target_col]]\n",
    "\n",
    "X.shape, y.shape"
   ]
  },
  {
   "cell_type": "code",
   "execution_count": 19,
   "id": "ada0630b",
   "metadata": {},
   "outputs": [
    {
     "data": {
      "text/plain": [
       "[(28261, 11), (12113, 11), (28261, 1), (12113, 1)]"
      ]
     },
     "execution_count": 19,
     "metadata": {},
     "output_type": "execute_result"
    }
   ],
   "source": [
    "from sklearn.model_selection import train_test_split\n",
    "\n",
    "X_train, X_test, y_train, y_test = train_test_split(X, y, test_size=float(test_size))\n",
    "\n",
    "[elem.shape for elem in (X_train, X_test, y_train, y_test)]"
   ]
  },
  {
   "cell_type": "code",
   "execution_count": 22,
   "id": "e24f08ec",
   "metadata": {},
   "outputs": [
    {
     "data": {
      "text/plain": [
       "Podcast_Name                    object\n",
       "Episode_Length_minutes         float64\n",
       "Genre                           object\n",
       "Host_Popularity_percentage     float64\n",
       "Publication_Day                 object\n",
       "Publication_Time                object\n",
       "Guest_Popularity_percentage    float64\n",
       "Number_of_Ads                    int64\n",
       "Episode_Number                   int64\n",
       "no_guest                          bool\n",
       "sentiment_encoded                int64\n",
       "dtype: object"
      ]
     },
     "execution_count": 22,
     "metadata": {},
     "output_type": "execute_result"
    }
   ],
   "source": [
    "X_train.dtypes"
   ]
  },
  {
   "cell_type": "markdown",
   "id": "837a6cf5",
   "metadata": {},
   "source": [
    "No se usa otro tipo de preprocesamiento porque todo lo demás irá en Pipeline, si corresponde"
   ]
  }
 ],
 "metadata": {
  "kernelspec": {
   "display_name": ".venv",
   "language": "python",
   "name": "python3"
  },
  "language_info": {
   "codemirror_mode": {
    "name": "ipython",
    "version": 3
   },
   "file_extension": ".py",
   "mimetype": "text/x-python",
   "name": "python",
   "nbconvert_exporter": "python",
   "pygments_lexer": "ipython3",
   "version": "3.12.3"
  }
 },
 "nbformat": 4,
 "nbformat_minor": 5
}
