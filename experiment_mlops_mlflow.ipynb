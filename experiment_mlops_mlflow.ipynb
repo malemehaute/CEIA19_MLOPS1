{
 "cells": [
  {
   "cell_type": "code",
   "execution_count": null,
   "metadata": {
    "ExecuteTime": {
     "end_time": "2024-06-06T12:33:18.162188Z",
     "start_time": "2024-06-06T12:33:18.155786Z"
    }
   },
   "outputs": [],
   "source": [
    "import awswrangler as wr\n",
    "import mlflow\n",
    "\n",
    "%env AWS_ACCESS_KEY_ID=minio   \n",
    "%env AWS_SECRET_ACCESS_KEY=minio123 \n",
    "%env MLFLOW_S3_ENDPOINT_URL=http://localhost:9000\n",
    "%env AWS_ENDPOINT_URL_S3=http://localhost:9000"
   ]
  },
  {
   "cell_type": "code",
   "execution_count": null,
   "metadata": {
    "ExecuteTime": {
     "end_time": "2024-06-06T12:33:21.563179Z",
     "start_time": "2024-06-06T12:33:21.560951Z"
    }
   },
   "outputs": [],
   "source": [
    "mlflow_server = \"http://localhost:5001\"\n",
    "mlflow.set_tracking_uri(mlflow_server)"
   ]
  },
  {
   "cell_type": "code",
   "execution_count": null,
   "metadata": {
    "ExecuteTime": {
     "end_time": "2024-06-06T12:33:22.668794Z",
     "start_time": "2024-06-06T12:33:22.215467Z"
    }
   },
   "outputs": [],
   "source": [
    "X_train = wr.s3.read_csv(\"s3://data/final/train/podcast_X_train.csv\")\n",
    "y_train = wr.s3.read_csv(\"s3://data/final/train/podcast_y_train.csv\")\n",
    "\n",
    "X_test = wr.s3.read_csv(\"s3://data/final/test/podcast_X_test.csv\")\n",
    "y_test = wr.s3.read_csv(\"s3://data/final/test/podcast_y_test.csv\")"
   ]
  },
  {
   "cell_type": "markdown",
   "metadata": {},
   "source": [
    "## Investigamos la correlación de features con la variable objetivo\n",
    "\n",
    "Antes de profundizar en el proceso de construcción de modelo, es esencial comprender las relaciones entre nuestras features  y la variable objetivo. Por lo que vamos a realizar un gráfico que indica el coeficiente de correlación de cada feature en relación con la variable objetivo. Esto nos sirve para:\n",
    "\n",
    "- Evitar data leakage: Debemos asegurarnos de que ninguna característica se correlacione perfectamente con el objetivo (un coeficiente de correlación de aproximadamente 1.0). Si existe tal correlación, es una señal de que nuestro conjunto de datos podría estar \"filtrando\" información sobre el objetivo. \n",
    "\n",
    "- Garantizar relaciones significativas: Idealmente, nuestras características deberían tener algún grado de correlación con el objetivo. Inclusive si estamos trabajando con un problema de clasificación, aunque los resultados no son tan importantes como en un caso de regresión.\n",
    "\n",
    "- Auditoría y trazabilidad: Loggear esta visualización de correlación con nuestra ejecución principal de MLflow garantiza la trazabilidad. Proporciona una instantánea de las características de los datos en el momento del entrenamiento del modelo, lo cual es invaluable para propósitos de auditoría y replicabilidad."
   ]
  },
  {
   "cell_type": "code",
   "execution_count": null,
   "metadata": {
    "ExecuteTime": {
     "end_time": "2024-06-06T12:33:29.152729Z",
     "start_time": "2024-06-06T12:33:26.288918Z"
    }
   },
   "outputs": [],
   "source": [
    "from plots import plot_correlation_with_target, plot_information_gain_with_target"
   ]
  },
  {
   "cell_type": "code",
   "execution_count": null,
   "metadata": {
    "ExecuteTime": {
     "end_time": "2024-06-06T12:33:29.957355Z",
     "start_time": "2024-06-06T12:33:29.776398Z"
    }
   },
   "outputs": [],
   "source": [
    "# Dado que estamos usando como tracking a MLFlow, mostrar los gráficos aquí no tiene sentido.\n",
    "correlation_plot = plot_correlation_with_target(X_train, y_train)\n",
    "information_gain_plot = plot_information_gain_with_target(X_train, y_train)"
   ]
  },
  {
   "cell_type": "markdown",
   "metadata": {},
   "source": [
    "## Arrancamos a experimentar"
   ]
  },
  {
   "cell_type": "code",
   "execution_count": null,
   "metadata": {
    "ExecuteTime": {
     "end_time": "2024-06-06T12:33:31.839716Z",
     "start_time": "2024-06-06T12:33:31.179611Z"
    }
   },
   "outputs": [],
   "source": [
    "import datetime\n",
    "import optuna\n",
    "\n",
    "from mlflow.models import infer_signature\n",
    "from mlflow_aux import get_or_create_experiment\n",
    "\n",
    "from optuna_aux import champion_callback, objective\n",
    "\n",
    "from sklearn.svm import SVC \n",
    "from sklearn.tree import DecisionTreeClassifier\n",
    "from sklearn.ensemble import RandomForestClassifier\n",
    "from sklearn.metrics import f1_score\n",
    "\n",
    "# Optuna es un poco verboso, dejamos que solo nos muestre logs de errores\n",
    "optuna.logging.set_verbosity(optuna.logging.ERROR)"
   ]
  },
  {
   "cell_type": "markdown",
   "metadata": {},
   "source": [
    "Antes de poder realizar experimentos, vamos a crear el experimento en MLFLow, pero para evitar desorden, vamos a usar una función que se fije primero si el experimento existe, si esto es así, devuelve su ID.\n",
    "\n",
    "Además creamos el nombre del run padre con el que vamos a ir registrando las ejecuciones."
   ]
  },
  {
   "cell_type": "code",
   "execution_count": null,
   "metadata": {
    "ExecuteTime": {
     "end_time": "2024-06-06T12:33:35.350189Z",
     "start_time": "2024-06-06T12:33:35.106741Z"
    }
   },
   "outputs": [],
   "source": [
    "# Creemos el experimento\n",
    "experiment_id = get_or_create_experiment(\"Podcast Data\")\n",
    "print(experiment_id)\n",
    "\n",
    "run_name_parent = \"best_hyperparam_\" + datetime.datetime.today().strftime('%Y/%m/%d-%H:%M:%S')"
   ]
  },
  {
   "cell_type": "markdown",
   "metadata": {},
   "source": [
    "Ya con todo seteado, vamos a ejecutar la optimización usando Optuna, el cual realiza una búsqueda Bayesiana, la cual es más eficiente que una búsqueda de grilla tradicional. La desventaja es que es más difícil de paralelizar."
   ]
  },
  {
   "cell_type": "code",
   "execution_count": null,
   "metadata": {
    "ExecuteTime": {
     "end_time": "2024-06-06T12:33:57.072627Z",
     "start_time": "2024-06-06T12:33:37.081460Z"
    }
   },
   "outputs": [],
   "source": [
    "with mlflow.start_run(experiment_id=experiment_id, run_name=run_name_parent, nested=True):\n",
    "    study = optuna.create_study(direction=\"maximize\")\n",
    "\n",
    "    study.optimize(lambda trial: objective(trial, X_train, y_train, experiment_id), n_trials=250, callbacks=[champion_callback])\n",
    "\n",
    "    mlflow.log_params(study.best_params)\n",
    "    mlflow.log_metric(\"best_train_f1\", study.best_value)\n",
    "\n",
    "    mlflow.set_tags(\n",
    "        tags={\n",
    "            \"project\": \"Podcast Data\",\n",
    "            \"optimizer_engine\": \"optuna\",\n",
    "            \"model_family\": \"sklearn\",\n",
    "            \"feature_set_version\": 1,\n",
    "        }\n",
    "    )\n",
    "\n",
    "    # Una vez que terminamos la búsqueda, nos quedamos con el mejor modelo y lo entrenamos\n",
    "    if study.best_params[\"classifier\"] == \"SVC_linear\":\n",
    "        model = SVC(C=study.best_params[\"svc_c\"], kernel='linear', gamma='scale')\n",
    "    elif study.best_params[\"classifier\"] == \"SVC_poly\":\n",
    "        model = SVC(C=study.best_params[\"svc_c\"], kernel='poly',\n",
    "                    gamma='scale', degree=study.best_params[\"svc_poly_degree\"])\n",
    "    elif study.best_params[\"classifier\"] == \"SVC_rbf\":\n",
    "        model = SVC(C=study.best_params[\"svc_c\"], kernel='rbf', gamma='scale')\n",
    "    elif study.best_params[\"classifier\"] == \"DecisionTreeClassifier\":\n",
    "        model = DecisionTreeClassifier(max_depth=study.best_params[\"tree_max_depth\"])\n",
    "    else:\n",
    "        model = RandomForestClassifier(max_depth=study.best_params[\"rf_max_depth\"],\n",
    "                                       n_estimators=study.best_params[\"rf_n_estimators\"])\n",
    "\n",
    "    model = model.fit(X_train, y_train.to_numpy().ravel())\n",
    "\n",
    "    # Y testeamos el modelo y logueamos el resultado\n",
    "    y_pred = model.predict(X_test)\n",
    "    f1_score = f1_score(y_test.to_numpy().ravel(), y_pred)\n",
    "    mlflow.log_metric(\"test_f1\", f1_score)\n",
    "\n",
    "    # Logueamos los artefactos de las gráficas de correlación y de information_gain\n",
    "    mlflow.log_figure(figure=correlation_plot, artifact_file=\"correlation_plot.png\")\n",
    "    mlflow.log_figure(figure=information_gain_plot, artifact_file=\"information_gain_plot.png\")\n",
    "\n",
    "    # Guardamos el artefacto del modelo\n",
    "    artifact_path = \"model\"\n",
    "\n",
    "    signature = infer_signature(X_train, model.predict(X_train))\n",
    "\n",
    "    mlflow.sklearn.log_model(\n",
    "        sk_model=model,\n",
    "        artifact_path=artifact_path,\n",
    "        signature=signature,\n",
    "        serialization_format='cloudpickle',\n",
    "        registered_model_name=\"podcast_model_dev\",\n",
    "        metadata={\"model_data_version\": 1}\n",
    "    )\n",
    "\n",
    "    # Obtenemos la ubicación del modelo guardado en MLFlow\n",
    "    model_uri = mlflow.get_artifact_uri(artifact_path)\n"
   ]
  },
  {
   "cell_type": "markdown",
   "metadata": {},
   "source": [
    "## Testeando el modelo\n",
    "\n",
    "Una vez que el modelo fue entrenado, podemos levantarlo y testearlo de una forma agnóstica a donde está guardado."
   ]
  },
  {
   "cell_type": "code",
   "execution_count": null,
   "metadata": {
    "ExecuteTime": {
     "end_time": "2024-06-06T12:33:57.138907Z",
     "start_time": "2024-06-06T12:33:57.074256Z"
    }
   },
   "outputs": [],
   "source": [
    "loaded = mlflow.sklearn.load_model(model_uri)"
   ]
  },
  {
   "cell_type": "code",
   "execution_count": 1,
   "metadata": {
    "ExecuteTime": {
     "end_time": "2024-06-06T12:33:57.148986Z",
     "start_time": "2024-06-06T12:33:57.139819Z"
    }
   },
   "outputs": [
    {
     "ename": "NameError",
     "evalue": "name 'loaded' is not defined",
     "output_type": "error",
     "traceback": [
      "\u001b[1;31m---------------------------------------------------------------------------\u001b[0m",
      "\u001b[1;31mNameError\u001b[0m                                 Traceback (most recent call last)",
      "Cell \u001b[1;32mIn[1], line 22\u001b[0m\n\u001b[0;32m      1\u001b[0m \u001b[38;5;28;01mimport\u001b[39;00m \u001b[38;5;21;01mnumpy\u001b[39;00m \u001b[38;5;28;01mas\u001b[39;00m \u001b[38;5;21;01mnp\u001b[39;00m\n\u001b[0;32m      2\u001b[0m test_data \u001b[38;5;241m=\u001b[39m [\u001b[38;5;241m0.0\u001b[39m, \u001b[38;5;241m52.43\u001b[39m, \u001b[38;5;241m6.35\u001b[39m, \u001b[38;5;241m0.0\u001b[39m, \u001b[38;5;241m91.92\u001b[39m, \u001b[38;5;241m5.99\u001b[39m,\n\u001b[0;32m      3\u001b[0m              \u001b[38;5;241m0.0\u001b[39m, \u001b[38;5;241m15.01\u001b[39m, \u001b[38;5;241m28.14\u001b[39m, \u001b[38;5;241m66.05\u001b[39m, \u001b[38;5;241m48.4\u001b[39m, \u001b[38;5;241m82.13\u001b[39m,\n\u001b[0;32m      4\u001b[0m              \u001b[38;5;241m44.34\u001b[39m, \u001b[38;5;241m0.0\u001b[39m, \u001b[38;5;241m37.2\u001b[39m, \u001b[38;5;241m0.0\u001b[39m, \u001b[38;5;241m7.63\u001b[39m, \u001b[38;5;241m74.98\u001b[39m,\n\u001b[1;32m   (...)\u001b[0m\n\u001b[0;32m     20\u001b[0m              \u001b[38;5;241m2.41\u001b[39m, \u001b[38;5;241m97.84\u001b[39m, \u001b[38;5;241m86.23\u001b[39m, \u001b[38;5;241m0.0\u001b[39m, \u001b[38;5;241m0.0\u001b[39m, \u001b[38;5;241m24.56\u001b[39m, \u001b[38;5;241m24.6\u001b[39m, \u001b[38;5;241m41.95\u001b[39m, \u001b[38;5;241m0.0\u001b[39m,\n\u001b[0;32m     21\u001b[0m              \u001b[38;5;241m72.34\u001b[39m, \u001b[38;5;241m95.28\u001b[39m, \u001b[38;5;241m86.02\u001b[39m, \u001b[38;5;241m46.68\u001b[39m, \u001b[38;5;241m17.86\u001b[39m, \u001b[38;5;241m50.87\u001b[39m, \u001b[38;5;241m39.36\u001b[39m, \u001b[38;5;241m86.69\u001b[39m, \u001b[38;5;241m39.31\u001b[39m, \u001b[38;5;241m0.0\u001b[39m, \u001b[38;5;241m81.88\u001b[39m, \u001b[38;5;241m0.0\u001b[39m, \u001b[38;5;241m0.0\u001b[39m, \u001b[38;5;241m0.0\u001b[39m, \u001b[38;5;241m0.0\u001b[39m, \u001b[38;5;241m0.0\u001b[39m, \u001b[38;5;241m0.0\u001b[39m, \u001b[38;5;241m88.66\u001b[39m, \u001b[38;5;241m18.31\u001b[39m, \u001b[38;5;241m43.33\u001b[39m, \u001b[38;5;241m0.0\u001b[39m, \u001b[38;5;241m71.93\u001b[39m, \u001b[38;5;241m73.78\u001b[39m, \u001b[38;5;241m4.8\u001b[39m, \u001b[38;5;241m0.0\u001b[39m, \u001b[38;5;241m41.27\u001b[39m, \u001b[38;5;241m22.48\u001b[39m, \u001b[38;5;241m79.95\u001b[39m, \u001b[38;5;241m0.0\u001b[39m, \u001b[38;5;241m8.27\u001b[39m, \u001b[38;5;241m94.72\u001b[39m, \u001b[38;5;241m52.82\u001b[39m, \u001b[38;5;241m70.26\u001b[39m, \u001b[38;5;241m60.05\u001b[39m, \u001b[38;5;241m0.0\u001b[39m, \u001b[38;5;241m0.0\u001b[39m, \u001b[38;5;241m0.0\u001b[39m, \u001b[38;5;241m30.54\u001b[39m, \u001b[38;5;241m38.58\u001b[39m, \u001b[38;5;241m0.0\u001b[39m, \u001b[38;5;241m0.0\u001b[39m, \u001b[38;5;241m82.8\u001b[39m, \u001b[38;5;241m72.47\u001b[39m]\n\u001b[1;32m---> 22\u001b[0m loaded\u001b[38;5;241m.\u001b[39mpredict(np\u001b[38;5;241m.\u001b[39marray(test_data)\u001b[38;5;241m.\u001b[39mreshape([\u001b[38;5;241m1\u001b[39m, \u001b[38;5;241m-\u001b[39m\u001b[38;5;241m1\u001b[39m]))\n",
      "\u001b[1;31mNameError\u001b[0m: name 'loaded' is not defined"
     ]
    }
   ],
   "source": [
    "import numpy as np\n",
    "test_data = [0.0, 52.43, 6.35, 0.0, 91.92, 5.99,\n",
    "             0.0, 15.01, 28.14, 66.05, 48.4, 82.13,\n",
    "             44.34, 0.0, 37.2, 0.0, 7.63, 74.98,\n",
    "             34.02, 74.35, 89.41, 0.0, 0.0, 0.0,\n",
    "             87.92, 0.0, 10.85, 37.55, 18.66, 91.09,\n",
    "             5.62, 87.52, 0.0, 0.0, 45.55, 96.26, \n",
    "             97.0, 0.0, 58.61, 80.24, 0.0, 83.95,\n",
    "             0.0, 59.53, 78.74, 77.85, 34.65, 0.0,\n",
    "             89.34, 12.22, 23.33, 60.14, 0.0, 16.37,\n",
    "             68.62, 43.35, 13.14, 0.0, 26.75, 30.98,\n",
    "             0.0, 44.59, 70.97, 64.93, 48.84, 0.0, \n",
    "             0.0, 99.29, 51.01, 11.43, 50.81, 76.96,\n",
    "             40.73, 47.57, 53.91, 18.83, 25.61, 0.0,\n",
    "             14.83, 82.92, 0.0, 43.31, 12.79, 0.0,\n",
    "             68.25, 0.0, 0.0, 0.0, 34.87, 58.22,\n",
    "             14.53, 63.64, 17.85, 37.87, 35.89, 75.7,\n",
    "             0.0, 13.18, 99.79, 0.0, 98.13, 16.58, \n",
    "             1.22, 88.88, 0.0, 0.0, 0.0, 16.32,\n",
    "             29.72, 93.54, 35.85, 46.31, 12.08,\n",
    "             0.0, 64.16, 71.04, 64.5, 0.0, 7.15,\n",
    "             2.41, 97.84, 86.23, 0.0, 0.0, 24.56,\n",
    "             24.6, 41.95, 0.0, 72.34, 95.28, 86.02,\n",
    "             46.68, 17.86, 50.87, 39.36, 86.69, 39.31,\n",
    "             0.0, 81.88, 0.0, 0.0, 0.0, 0.0,\n",
    "             0.0, 0.0, 88.66, 18.31, 43.33, 0.0,\n",
    "             71.93, 73.78, 4.8, 0.0, 41.27, 22.48,\n",
    "             79.95, 0.0, 8.27, 94.72, 52.82, 70.26,\n",
    "             60.05, 0.0, 0.0, 0.0, 30.54, 38.58,\n",
    "             0.0, 0.0, 82.8, 72.47]\n",
    "loaded.predict(np.array(test_data).reshape([1, -1]))"
   ]
  },
  {
   "cell_type": "markdown",
   "metadata": {},
   "source": [
    "## Registramos el modelo \n",
    "\n",
    "Realizamos el registro del modelo en MLflow. En este registro se pone el modelo productivo que luego se usará para servir en formato on-line."
   ]
  },
  {
   "cell_type": "code",
   "execution_count": null,
   "metadata": {
    "ExecuteTime": {
     "end_time": "2024-06-06T12:33:57.237830Z",
     "start_time": "2024-06-06T12:33:57.153650Z"
    }
   },
   "outputs": [],
   "source": [
    "from mlflow import MlflowClient\n",
    "\n",
    "client = MlflowClient()\n",
    "name = \"podcast_model_prod\"\n",
    "desc = \"This classifier analyzes podcast data\"\n",
    "\n",
    "# Creamos el modelo productivo\n",
    "client.create_registered_model(name=name, description=desc)\n",
    "\n",
    "# Guardamos como tag los hiper-parametros en la version del modelo\n",
    "tags = model.get_params()\n",
    "tags[\"model\"] = type(model).__name__\n",
    "tags[\"f1-score\"] = f1_score\n",
    "\n",
    "# Guardamos la version del modelo\n",
    "result = client.create_model_version(\n",
    "    name=name,\n",
    "    source=model_uri,\n",
    "    run_id=model_uri.split(\"/\")[-3],\n",
    "    tags=tags\n",
    ")\n",
    "\n",
    "# Y creamos como la version con el alias de champion para poder levantarlo en nuestro\n",
    "# proceso de servicio del modelo on-line.\n",
    "client.set_registered_model_alias(name, \"prod\", result.version)"
   ]
  },
  {
   "cell_type": "code",
   "execution_count": null,
   "metadata": {
    "collapsed": false,
    "jupyter": {
     "outputs_hidden": false
    }
   },
   "outputs": [],
   "source": []
  }
 ],
 "metadata": {
  "kernelspec": {
   "display_name": "Python 3 (ipykernel)",
   "language": "python",
   "name": "python3"
  },
  "language_info": {
   "codemirror_mode": {
    "name": "ipython",
    "version": 3
   },
   "file_extension": ".py",
   "mimetype": "text/x-python",
   "name": "python",
   "nbconvert_exporter": "python",
   "pygments_lexer": "ipython3",
   "version": "3.12.3"
  }
 },
 "nbformat": 4,
 "nbformat_minor": 4
}
